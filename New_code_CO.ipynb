{
  "nbformat": 4,
  "nbformat_minor": 0,
  "metadata": {
    "colab": {
      "provenance": []
    },
    "kernelspec": {
      "name": "python3",
      "display_name": "Python 3"
    },
    "language_info": {
      "name": "python"
    }
  },
  "cells": [
    {
      "cell_type": "markdown",
      "source": [
        "## Utilisation des classes ( programmation orienté-objet)\n",
        "\n",
        "\n"
      ],
      "metadata": {
        "id": "gmnXNgLmRE9L"
      }
    },
    {
      "cell_type": "code",
      "source": [
        "!pip install pandasql"
      ],
      "metadata": {
        "colab": {
          "base_uri": "https://localhost:8080/"
        },
        "id": "BU2t3-CfXJNT",
        "outputId": "77306225-f993-4753-f80a-84ea6d5917dc"
      },
      "execution_count": 8,
      "outputs": [
        {
          "output_type": "stream",
          "name": "stdout",
          "text": [
            "Looking in indexes: https://pypi.org/simple, https://us-python.pkg.dev/colab-wheels/public/simple/\n",
            "Collecting pandasql\n",
            "  Downloading pandasql-0.7.3.tar.gz (26 kB)\n",
            "  Preparing metadata (setup.py) ... \u001b[?25l\u001b[?25hdone\n",
            "Requirement already satisfied: numpy in /usr/local/lib/python3.8/dist-packages (from pandasql) (1.21.6)\n",
            "Requirement already satisfied: pandas in /usr/local/lib/python3.8/dist-packages (from pandasql) (1.3.5)\n",
            "Requirement already satisfied: sqlalchemy in /usr/local/lib/python3.8/dist-packages (from pandasql) (1.4.46)\n",
            "Requirement already satisfied: python-dateutil>=2.7.3 in /usr/local/lib/python3.8/dist-packages (from pandas->pandasql) (2.8.2)\n",
            "Requirement already satisfied: pytz>=2017.3 in /usr/local/lib/python3.8/dist-packages (from pandas->pandasql) (2022.7)\n",
            "Requirement already satisfied: greenlet!=0.4.17 in /usr/local/lib/python3.8/dist-packages (from sqlalchemy->pandasql) (2.0.1)\n",
            "Requirement already satisfied: six>=1.5 in /usr/local/lib/python3.8/dist-packages (from python-dateutil>=2.7.3->pandas->pandasql) (1.15.0)\n",
            "Building wheels for collected packages: pandasql\n",
            "  Building wheel for pandasql (setup.py) ... \u001b[?25l\u001b[?25hdone\n",
            "  Created wheel for pandasql: filename=pandasql-0.7.3-py3-none-any.whl size=26787 sha256=7f8272ff57813de2250e979a2b4f7419bb2aa2b7b18ac871cb055b1c2499db52\n",
            "  Stored in directory: /root/.cache/pip/wheels/ed/8f/46/a383923333728744f01ba24adbd8e364f2cb9470a8b8e5b9ff\n",
            "Successfully built pandasql\n",
            "Installing collected packages: pandasql\n",
            "Successfully installed pandasql-0.7.3\n"
          ]
        }
      ]
    },
    {
      "cell_type": "code",
      "source": [
        "import datetime as dt \n",
        "import requests\n",
        "import json\n",
        "import pandas as pd \n",
        "from pandasql import sqldf"
      ],
      "metadata": {
        "id": "zWD8UbpQW9IY"
      },
      "execution_count": 9,
      "outputs": []
    },
    {
      "cell_type": "code",
      "source": [
        "API_KEY = \"e5b7d494b86c8fdab7619f416c77b12a\"  #météo\n",
        "CITY = \"Toulouse\"\n",
        "URL_Energy = 'https://tinyurl.com/4f95debc'"
      ],
      "metadata": {
        "id": "7QnKFykyW_UI"
      },
      "execution_count": 10,
      "outputs": []
    },
    {
      "cell_type": "code",
      "source": [
        "#convertir une température  Kelvin en Celsius\n",
        "def kelvin_to_celsius_fahrenheit(kelvin):\n",
        "    \n",
        "    celsuis = kelvin - 273.15 \n",
        "    return celsuis"
      ],
      "metadata": {
        "id": "Y7YeQ0apXAhe"
      },
      "execution_count": 11,
      "outputs": []
    },
    {
      "cell_type": "code",
      "source": [
        "#Adaptateur pour l'API météo\n",
        "class WeatherAdapter:\n",
        "    def __init__(self, api_key):\n",
        "        self.base_url = \"http://api.openweathermap.org/data/2.5/weather?\"\n",
        "        self.api_key = api_key\n",
        "    \n",
        "    def get_weather(self, city):\n",
        "        url = self.base_url + \"q=\" + city + \"&appid=\" + self.api_key\n",
        "        response = requests.get(url)\n",
        "        return response.json()\n",
        "    \n",
        "#Adaptateur pour l'API Consommation d'énergie\n",
        "class EnergyAdapter:\n",
        "    def __init__(self, base_url):\n",
        "        self.base_url = base_url\n",
        "    \n",
        "    def get_energy_production(self):\n",
        "        req = requests.get(self.base_url)\n",
        "\n",
        "        data = json.loads(req.content)\n",
        "\n",
        "   \n",
        "        #response = requests.get(self.base_url + \"/\" + region)\n",
        "        return data\n",
        "\n",
        "# Classe pour le médiateur \n",
        "class InformationMediator:\n",
        "    def __init__(self, weather_adapter, energy_adapter):\n",
        "        self.weather_adapter = weather_adapter\n",
        "        self.energy_adapter = energy_adapter\n",
        "    \n",
        "    def get_combined_info(self, city):\n",
        "        weather_data = self.weather_adapter.get_weather(city)\n",
        "        data = self.energy_adapter.get_energy_production()\n",
        "        dict_info = {\n",
        "            \n",
        "            \"id\" : weather_data['id'],\n",
        "            \"temp_celsius\" : round(kelvin_to_celsius_fahrenheit(weather_data[\"main\"][\"temp\"]),2),\n",
        "            \"wind_speed\": weather_data['wind']['speed'],\n",
        "            \"temperature\": weather_data[\"main\"][\"temp\"],\n",
        "            \"humidity\" : weather_data['main'][\"humidity\"],\n",
        "            \"lon\" : weather_data['coord'][\"lon\"],\n",
        "            \"lat\" : weather_data['coord'][\"lat\"],\n",
        "            \"country\" : weather_data['sys'][\"country\"],\n",
        "            \"cod\" : weather_data['cod'],\n",
        "            \"sunrise_time\": dt.datetime.utcfromtimestamp(weather_data['sys']['sunrise'] + weather_data['timezone']),\n",
        "            \"sunset_time\" : dt.datetime.utcfromtimestamp(weather_data['sys']['sunset'] + weather_data['timezone']),\n",
        "            \"description\": weather_data[\"weather\"][0][\"description\"],\n",
        "            \"region\" : data[\"records\"][7][\"fields\"][\"region\"],\n",
        "            \"code_insee_region\" : data[\"records\"][7][\"fields\"][\"code_insee_region\"],\n",
        "            \"consommation_brute_totale\" :  data[\"records\"][7][\"fields\"][\"consommation_brute_totale\"],\n",
        "            \"consommation_brute_electricite_rte\" : data[\"records\"][7][\"fields\"][\"consommation_brute_electricite_rte\"],\n",
        "            \"date\" : data[\"records\"][7][\"fields\"][\"date\"],\n",
        "            \"heure\": data[\"records\"][7][\"fields\"][\"heure\"]\n",
        "            \n",
        "        }\n",
        "        \n",
        "        \n",
        "    \n",
        "        df = pd.DataFrame(dict_info,index=[0])\n",
        "        #return df.transpose()\n",
        "        return df"
      ],
      "metadata": {
        "id": "ui3V4n1-XDJZ"
      },
      "execution_count": 12,
      "outputs": []
    },
    {
      "cell_type": "code",
      "source": [
        "weatherAdapter  = WeatherAdapter(API_KEY)\n",
        "energyAdapter = EnergyAdapter(URL_Energy)\n",
        "\n",
        "informationMediator = InformationMediator(weatherAdapter,energyAdapter)"
      ],
      "metadata": {
        "id": "JlcMumvtXoJE"
      },
      "execution_count": 13,
      "outputs": []
    },
    {
      "cell_type": "markdown",
      "source": [
        "\n",
        "Exemple de queries:\n",
        "\n",
        "'' Savoir la consommation d'énergie brute totale et la consommation brute d'électricité ''\n",
        "\n",
        "1) query = \"SELECT country, region, consommation_brute_totale, consommation_brute_electricite_rte FROM df\"\n",
        "\n",
        "'' Savoir la température et l'humidité sur Occitanie (Toulouse)''\n",
        "\n",
        "2) query = \"SELECT temp_celsius ,temperature, humidity, wind_speed FROM df\"\n",
        "\n",
        "'' Savoir la température et la consommation d'énergie brute totale sur Occitanie (Toulouse)''\n",
        "\n",
        "3) query = \"SELECT temp_celsius ,consommation_brute_totale FROM df\""
      ],
      "metadata": {
        "id": "vq5K06PDbtnc"
      }
    },
    {
      "cell_type": "code",
      "source": [
        "query = input()\n",
        "def requetes(query):\n",
        "  informationMediator = InformationMediator(weatherAdapter,energyAdapter)\n",
        "  df = informationMediator.get_combined_info(CITY)\n",
        "  selected_columns_df = sqldf(query)\n",
        "  print(\"Sur Occitanie (Toulouse), on a ces informations : \")\n",
        "  return selected_columns_df.transpose()\n",
        "selected_columns_df = requetes(query)\n",
        "print(selected_columns_df)"
      ],
      "metadata": {
        "colab": {
          "base_uri": "https://localhost:8080/"
        },
        "id": "sHYJuEaCaHNi",
        "outputId": "7605084f-0f7b-4a12-e0cb-e07326e344ec"
      },
      "execution_count": 17,
      "outputs": [
        {
          "output_type": "stream",
          "name": "stdout",
          "text": [
            "SELECT temp_celsius ,consommation_brute_totale FROM df\n",
            "Sur Occitanie (Toulouse), on a ces informations : \n",
            "                                 0\n",
            "temp_celsius                  9.02\n",
            "consommation_brute_totale  5070.00\n"
          ]
        }
      ]
    },
    {
      "cell_type": "code",
      "source": [],
      "metadata": {
        "id": "9Q00_2w3W8NN"
      },
      "execution_count": null,
      "outputs": []
    }
  ]
}