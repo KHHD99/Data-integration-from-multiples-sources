{
  "cells": [
    {
      "cell_type": "markdown",
      "metadata": {
        "id": "gmnXNgLmRE9L"
      },
      "source": [
        "## Utilisation des classes ( programmation orienté-objet)\n",
        "\n",
        "\n"
      ]
    },
    {
      "cell_type": "code",
      "execution_count": 1,
      "metadata": {
        "id": "zWD8UbpQW9IY"
      },
      "outputs": [],
      "source": [
        "import datetime as dt \n",
        "import requests\n",
        "import json\n",
        "import pandas as pd \n",
        "from pandasql import sqldf"
      ]
    },
    {
      "cell_type": "code",
      "execution_count": 10,
      "metadata": {
        "id": "7QnKFykyW_UI"
      },
      "outputs": [],
      "source": [
        "API_KEY = \"e5b7d494b86c8fdab7619f416c77b12a\"  #météo\n",
        "CITY = \"Toulouse\"\n",
        "URL_Energy = 'https://tinyurl.com/4f95debc'"
      ]
    },
    {
      "cell_type": "code",
      "execution_count": 11,
      "metadata": {
        "id": "Y7YeQ0apXAhe"
      },
      "outputs": [],
      "source": [
        "#convertir une température  Kelvin en Celsius\n",
        "def kelvin_to_celsius_fahrenheit(kelvin):\n",
        "    \n",
        "    celsuis = kelvin - 273.15 \n",
        "    return celsuis"
      ]
    },
    {
      "cell_type": "code",
      "execution_count": 12,
      "metadata": {
        "id": "ui3V4n1-XDJZ"
      },
      "outputs": [],
      "source": [
        "#Adaptateur pour l'API météo\n",
        "class WeatherAdapter:\n",
        "    def __init__(self, api_key):\n",
        "        self.base_url = \"http://api.openweathermap.org/data/2.5/weather?\"\n",
        "        self.api_key = api_key\n",
        "    \n",
        "    def get_weather(self, city):\n",
        "        url = self.base_url + \"q=\" + city + \"&appid=\" + self.api_key\n",
        "        response = requests.get(url)\n",
        "        return response.json()\n",
        "    \n",
        "#Adaptateur pour l'API Consommation d'énergie\n",
        "class EnergyAdapter:\n",
        "    def __init__(self, base_url):\n",
        "        self.base_url = base_url\n",
        "    \n",
        "    def get_energy_production(self):\n",
        "        req = requests.get(self.base_url)\n",
        "\n",
        "        data = json.loads(req.content)\n",
        "\n",
        "   \n",
        "        #response = requests.get(self.base_url + \"/\" + region)\n",
        "        return data\n",
        "\n",
        "# Classe pour le médiateur \n",
        "class InformationMediator:\n",
        "    def __init__(self, weather_adapter, energy_adapter):\n",
        "        self.weather_adapter = weather_adapter\n",
        "        self.energy_adapter = energy_adapter\n",
        "    \n",
        "    def get_combined_info(self, city):\n",
        "        weather_data = self.weather_adapter.get_weather(city)\n",
        "        data = self.energy_adapter.get_energy_production()\n",
        "        dict_info = {\n",
        "            \n",
        "            \"id\" : weather_data['id'],\n",
        "            \"temp_celsius\" : round(kelvin_to_celsius_fahrenheit(weather_data[\"main\"][\"temp\"]),2),\n",
        "            \"wind_speed\": weather_data['wind']['speed'],\n",
        "            \"temperature\": weather_data[\"main\"][\"temp\"],\n",
        "            \"humidity\" : weather_data['main'][\"humidity\"],\n",
        "            \"lon\" : weather_data['coord'][\"lon\"],\n",
        "            \"lat\" : weather_data['coord'][\"lat\"],\n",
        "            \"country\" : weather_data['sys'][\"country\"],\n",
        "            \"cod\" : weather_data['cod'],\n",
        "            \"sunrise_time\": dt.datetime.utcfromtimestamp(weather_data['sys']['sunrise'] + weather_data['timezone']),\n",
        "            \"sunset_time\" : dt.datetime.utcfromtimestamp(weather_data['sys']['sunset'] + weather_data['timezone']),\n",
        "            \"description\": weather_data[\"weather\"][0][\"description\"],\n",
        "            \"region\" : data[\"records\"][7][\"fields\"][\"region\"],\n",
        "            \"code_insee_region\" : data[\"records\"][7][\"fields\"][\"code_insee_region\"],\n",
        "            \"consommation_brute_totale\" :  data[\"records\"][7][\"fields\"][\"consommation_brute_totale\"],\n",
        "            \"consommation_brute_electricite_rte\" : data[\"records\"][7][\"fields\"][\"consommation_brute_electricite_rte\"],\n",
        "            \"date\" : data[\"records\"][7][\"fields\"][\"date\"],\n",
        "            \"heure\": data[\"records\"][7][\"fields\"][\"heure\"]\n",
        "            \n",
        "        }\n",
        "        \n",
        "        \n",
        "    \n",
        "        df = pd.DataFrame(dict_info,index=[0])\n",
        "        #return df.transpose()\n",
        "        return df"
      ]
    },
    {
      "cell_type": "code",
      "execution_count": 13,
      "metadata": {
        "id": "JlcMumvtXoJE"
      },
      "outputs": [],
      "source": [
        "weatherAdapter  = WeatherAdapter(API_KEY)\n",
        "energyAdapter = EnergyAdapter(URL_Energy)\n",
        "\n",
        "informationMediator = InformationMediator(weatherAdapter,energyAdapter)"
      ]
    },
    {
      "cell_type": "markdown",
      "metadata": {
        "id": "vq5K06PDbtnc"
      },
      "source": [
        "\n",
        "Exemple de queries:\n",
        "\n",
        "'' Savoir la consommation d'énergie brute totale et la consommation brute d'électricité ''\n",
        "\n",
        "1) query = \"SELECT country, region, consommation_brute_totale, consommation_brute_electricite_rte FROM df\"\n",
        "\n",
        "'' Savoir la température et l'humidité sur Occitanie (Toulouse)''\n",
        "\n",
        "2) query = \"SELECT temp_celsius ,temperature, humidity, wind_speed FROM df\"\n",
        "\n",
        "'' Savoir la température et la consommation d'énergie brute totale sur Occitanie (Toulouse)''\n",
        "\n",
        "3) query = \"SELECT temp_celsius ,consommation_brute_totale FROM df\""
      ]
    },
    {
      "cell_type": "code",
      "execution_count": 17,
      "metadata": {
        "colab": {
          "base_uri": "https://localhost:8080/"
        },
        "id": "sHYJuEaCaHNi",
        "outputId": "7605084f-0f7b-4a12-e0cb-e07326e344ec"
      },
      "outputs": [
        {
          "name": "stdout",
          "output_type": "stream",
          "text": [
            "SELECT temp_celsius ,consommation_brute_totale FROM df\n",
            "Sur Occitanie (Toulouse), on a ces informations : \n",
            "                                 0\n",
            "temp_celsius                  9.02\n",
            "consommation_brute_totale  5070.00\n"
          ]
        }
      ],
      "source": [
        "query = input()\n",
        "def requetes(query):\n",
        "  informationMediator = InformationMediator(weatherAdapter,energyAdapter)\n",
        "  df = informationMediator.get_combined_info(CITY)\n",
        "  selected_columns_df = sqldf(query)\n",
        "  print(\"Sur Occitanie (Toulouse), on a ces informations : \")\n",
        "  return selected_columns_df.transpose()\n",
        "selected_columns_df = requetes(query)\n",
        "print(selected_columns_df)"
      ]
    },
    {
      "cell_type": "code",
      "execution_count": null,
      "metadata": {
        "id": "9Q00_2w3W8NN"
      },
      "outputs": [],
      "source": []
    }
  ],
  "metadata": {
    "colab": {
      "provenance": []
    },
    "kernelspec": {
      "display_name": "flaskk",
      "language": "python",
      "name": "python3"
    },
    "language_info": {
      "codemirror_mode": {
        "name": "ipython",
        "version": 3
      },
      "file_extension": ".py",
      "mimetype": "text/x-python",
      "name": "python",
      "nbconvert_exporter": "python",
      "pygments_lexer": "ipython3",
      "version": "3.9.13"
    },
    "vscode": {
      "interpreter": {
        "hash": "5b9a9d48d31924d60835eb1dea3295e03851c7d6bb4659e9392bbd42e6ed41a4"
      }
    }
  },
  "nbformat": 4,
  "nbformat_minor": 0
}
