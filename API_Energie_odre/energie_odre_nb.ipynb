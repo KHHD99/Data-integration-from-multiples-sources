{
 "cells": [
  {
   "cell_type": "code",
   "execution_count": 1,
   "id": "d6cf5795",
   "metadata": {},
   "outputs": [],
   "source": [
    "import json\n",
    "import requests as rq\n",
    "from bs4 import BeautifulSoup as bs\n",
    "import pandas as pd\n",
    "from pandasql import sqldf\n",
    "from termcolor import colored\n",
    "def get_data_query():\n",
    "    url='https://odre.opendatasoft.com/api/records/1.0/search/?dataset=consommation-quotidienne-brute-regionale&q=&sort=-consommation_brute_gaz_grtgaz&facet=date_heure&facet=code_insee_region&facet=region'\n",
    "    lista=['code_insee_region','date_heure', 'date', 'heure',  'region', 'consommation_brute_electricite_rte', 'consommation_brute_totale', 'consommation_brute_gaz_totale']\n",
    "    response= rq.get(url)\n",
    "    Repense = response.content\n",
    "    parse_json = json.loads(Repense)\n",
    "    n=parse_json['records'].__len__()\n",
    "    list_data=[x for x in parse_json['records']]\n",
    "    list_dic,df={},{}\n",
    "    for i in range(n):\n",
    "        list_dic[i]={key: list_data[i][\"fields\"][key] for key in lista}\n",
    "    data=pd.DataFrame.from_dict(list_dic[0], orient='index').T\n",
    "    for i in range(1,n):\n",
    "        df[i]=pd.DataFrame.from_dict(list_dic[i], orient='index').T\n",
    "        data=pd.concat([data,df[i]], axis=0)\n",
    "#     print(data)\n",
    "#     print(f'select columns from {lista}')\n",
    "    cols = str(input('\\n SELECT (columns):'))\n",
    "    where_condition =  str(input(\"\\n FROM : (Data) \\n\\n WHERE (column = 'condition') : \"))\n",
    "    if cols and where_condition:\n",
    "        query = f\"\"\" \n",
    "            SELECT {cols} \n",
    "            FROM data\n",
    "            WHERE {where_condition}\n",
    "            \"\"\"\n",
    "    elif cols:\n",
    "        query = f\"\"\" \n",
    "            SELECT {cols} \n",
    "            FROM data\n",
    "            \"\"\"\n",
    "    else:\n",
    "        print('you did not select any column to query !!')\n",
    "#     TO USE : TRY .....\n",
    "    return sqldf(query)"
   ]
  },
  {
   "cell_type": "code",
   "execution_count": null,
   "id": "6ae1b48a",
   "metadata": {},
   "outputs": [
    {
     "name": "stdout",
     "output_type": "stream",
     "text": [
      "\u001b[32m\n",
      "Examples of queries to the Energy API:\n",
      "Q1:\n",
      "    select : *\n",
      "Q2:\n",
      "    select : *\n",
      "    where  : region='Normandie'\n",
      "Q3:\n",
      "    select : region,date,consommation_brute_electricite_rte\n",
      "    where  : region='Nouvelle-Aquitaine' and date='2022-03-27'\n",
      "\n",
      "\u001b[0m\n",
      "\u001b[34m\n",
      "Possibles columns: [code_insee_region, date_heure, date, heure, region, consommation_brute_electricite_rte,\n",
      "                    consommation_brute_totale,consommation_brute_gaz_totale]\u001b[0m\n"
     ]
    }
   ],
   "source": [
    "print(colored(\"\"\"\n",
    "Examples of queries to the Energy API:\n",
    "Q1:\n",
    "    select : *\n",
    "Q2:\n",
    "    select : *\n",
    "    where  : region='Normandie'\n",
    "Q3:\n",
    "    select : region,date,consommation_brute_electricite_rte\n",
    "    where  : region='Nouvelle-Aquitaine' and date='2022-03-27'\n",
    "\\n\"\"\", 'green'))\n",
    "\n",
    "print(colored(\"\"\"\n",
    "Possibles columns: [code_insee_region, date_heure, date, heure, region, consommation_brute_electricite_rte,\n",
    "                    consommation_brute_totale,consommation_brute_gaz_totale]\"\"\"\n",
    "    , 'blue'))\n",
    "get_data_query()"
   ]
  },
  {
   "cell_type": "code",
   "execution_count": null,
   "id": "ca93d079",
   "metadata": {},
   "outputs": [],
   "source": []
  },
  {
   "cell_type": "code",
   "execution_count": null,
   "id": "f1b55239",
   "metadata": {},
   "outputs": [],
   "source": []
  }
 ],
 "metadata": {
  "kernelspec": {
   "display_name": "Python 3 (ipykernel)",
   "language": "python",
   "name": "python3"
  },
  "language_info": {
   "codemirror_mode": {
    "name": "ipython",
    "version": 3
   },
   "file_extension": ".py",
   "mimetype": "text/x-python",
   "name": "python",
   "nbconvert_exporter": "python",
   "pygments_lexer": "ipython3",
   "version": "3.9.7"
  }
 },
 "nbformat": 4,
 "nbformat_minor": 5
}
